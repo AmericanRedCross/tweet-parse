{
 "cells": [
  {
   "cell_type": "markdown",
   "metadata": {},
   "source": [
    "# search for specific words"
   ]
  },
  {
   "cell_type": "code",
   "execution_count": null,
   "metadata": {},
   "outputs": [],
   "source": [
    "import tweepy\n",
    "#import pandas as pd\n",
    "from collections import defaultdict\n",
    "import re\n",
    "import json\n",
    "import requests\n",
    "import os\n",
    "from dotenv import load_dotenv\n",
    "\n",
    "\n",
    "from pprint import pprint\n",
    "from datetime import datetime\n",
    "import urllib.parse\n",
    "\n",
    "#https://www.thepythoncode.com/article/translate-text-in-python\n",
    "from googletrans import Translator, constants\n",
    "from pprint import pprint\n",
    "\n"
   ]
  },
  {
   "cell_type": "code",
   "execution_count": null,
   "metadata": {},
   "outputs": [],
   "source": [
    "load_dotenv()\n",
    "\n",
    "API_Key = os.environ.get(\"API_KEY\")\n",
    "API_Key_Secret = os.environ.get(\"API_KEY_SECRET\")\n",
    "Bearer_Token = os.environ.get(\"BEARER_TOKEN\")\n",
    "\n",
    "\n",
    "auth = tweepy.OAuthHandler(API_Key, API_Key_Secret)\n",
    "bearer = 'bearer ' + Bearer_Token\n"
   ]
  },
  {
   "cell_type": "code",
   "execution_count": null,
   "metadata": {},
   "outputs": [],
   "source": [
    "# init the Google API translator\n",
    "translator = Translator()\n",
    "\n",
    "runDate = datetime.today().strftime('%Y-%m-%d')\n"
   ]
  },
  {
   "cell_type": "code",
   "execution_count": null,
   "metadata": {},
   "outputs": [],
   "source": [
    "def tweetQueryBuilder(searchTerms):\n",
    "    base_api_url = 'https://api.twitter.com/2/tweets/search/recent?query='\n",
    "    fixed_args = '-is:retweet  has:links '\n",
    "    \n",
    "    query_arg_prefix = fixed_args + searchTerms\n",
    "    query_arg_prefix = urllib.parse.quote(query_arg_prefix)\n",
    "    query_arg_suffix = '&max_results=100&tweet.fields=attachments,author_id,context_annotations,created_at,entities,geo,id,in_reply_to_user_id,lang,possibly_sensitive,public_metrics,referenced_tweets,source,text,withheld&expansions=referenced_tweets.id,geo.place_id'\n",
    "    \n",
    "    query = base_api_url + query_arg_prefix + query_arg_suffix\n",
    "    \n",
    "    return query\n"
   ]
  },
  {
   "cell_type": "code",
   "execution_count": null,
   "metadata": {},
   "outputs": [],
   "source": [
    "queries = [\n",
    "    #blockchain\n",
    "    'humanitarian response blockchain',\n",
    "    'humanitarian blockchain',\n",
    "    'blockchain privacy risk',\n",
    "    'blockchain refugee',\n",
    "\n",
    "    #drones\n",
    "    'humanitarian response drones',\n",
    "    'humanitarian drone',\n",
    "    'drone damage assessment',\n",
    "    'humanitarian drone mapping',\n",
    "\n",
    "    #mapping\n",
    "    'humanitarian geospatial',\n",
    "    'humanitarian mapping',\n",
    "    'humanitarian crowd map',\n",
    "\n",
    "    #data\n",
    "    'humanitarian data collection',\n",
    "    'humanitarian analyze data',\n",
    "    'pre-disaster data',\n",
    "    \n",
    "        'humanitarian assessment',\n",
    "    'humanitarian surge',\n",
    "    'surge assessment',\n",
    "    'predicting humanitarian',\n",
    "    'predicting crisis',\n",
    "    'predicting surge',\n",
    "\n",
    "    'disaster assessment',\n",
    "    'disaster blockchain',\n",
    "    'disaster response'\n",
    "    \n",
    "]\n",
    "\n",
    "languages = ['en']\n",
    "\n"
   ]
  },
  {
   "cell_type": "code",
   "execution_count": null,
   "metadata": {},
   "outputs": [],
   "source": [
    "total_result_count=0\n",
    "for query in queries:\n",
    "    for language in languages:\n",
    "        translation = translator.translate(query, src=\"en\", dest=language)\n",
    "        search = tweetQueryBuilder(translation.text)\n",
    "        print(search)\n",
    "        \n",
    "        folder = 'twitter_data/staged_tweets/'\n",
    "\n",
    "\n",
    "        response = requests.get(search, headers={\"Authorization\":bearer})\n",
    "\n",
    "\n",
    "        parsed = json.loads(response.text)\n",
    "        rc = parsed['meta']['result_count']\n",
    "        print(\"rc is \" + str(rc))\n",
    "        total_result_count += rc\n",
    "\n",
    "        #print(json.dumps(parsed, indent=4, sort_keys=True))\n",
    "\n",
    "        fullFilePath = folder + runDate + '_' + query + '_' + language +'.json'\n",
    "        print(fullFilePath)\n",
    "    \n",
    "                            \n",
    "\n",
    "        \n",
    "        with open(fullFilePath, 'w') as outfile:\n",
    "            outfile.write(json.dumps(parsed, indent=4, sort_keys=True))\n",
    "print(\"Total Results: \", total_result_count)\n",
    "    "
   ]
  },
  {
   "cell_type": "code",
   "execution_count": null,
   "metadata": {},
   "outputs": [],
   "source": []
  }
 ],
 "metadata": {
  "kernelspec": {
   "display_name": "Python 3",
   "language": "python",
   "name": "python3"
  },
  "language_info": {
   "codemirror_mode": {
    "name": "ipython",
    "version": 3
   },
   "file_extension": ".py",
   "mimetype": "text/x-python",
   "name": "python",
   "nbconvert_exporter": "python",
   "pygments_lexer": "ipython3",
   "version": "3.8.3"
  }
 },
 "nbformat": 4,
 "nbformat_minor": 4
}
