{
 "cells": [
  {
   "cell_type": "code",
   "execution_count": null,
   "metadata": {},
   "outputs": [],
   "source": [
    "import tweepy\n",
    "#import pandas as pd\n",
    "from collections import defaultdict\n",
    "import re\n",
    "import json\n",
    "import requests\n",
    "import os\n",
    "from pprint import pprint\n",
    "from googletrans import Translator, constants\n",
    "import time\n",
    "from datetime import datetime\n",
    "\n",
    "import jmespath\n",
    "#https://python.land/data-processing/working-with-json/jmespath"
   ]
  },
  {
   "cell_type": "markdown",
   "metadata": {},
   "source": [
    "1) go through all files in the tweets\n",
    "\ta) get userName from userId\n",
    "\t\ta.1) check local view, if not in local view query twitter"
   ]
  },
  {
   "cell_type": "code",
   "execution_count": null,
   "metadata": {},
   "outputs": [],
   "source": [
    "load_dotenv()\n",
    "\n",
    "API_Key = os.environ.get(\"API_KEY\")\n",
    "API_Key_Secret = os.environ.get(\"API_KEY_SECRET\")\n",
    "Bearer_Token = os.environ.get(\"BEARER_TOKEN\")\n",
    "\n",
    "\n",
    "auth = tweepy.OAuthHandler(API_Key, API_Key_Secret)\n",
    "bearer = 'bearer ' + Bearer_Token\n"
   ]
  },
  {
   "cell_type": "code",
   "execution_count": null,
   "metadata": {},
   "outputs": [],
   "source": [
    "#Initiating Variables -- make sure to manually edit each one\n",
    "\n",
    "date = datetime.today().strftime('%Y-%m-%d')\n",
    "dateFolder = date\n",
    "weekly_filename = f'deduped_weekly_tweets_{date}.json'"
   ]
  },
  {
   "cell_type": "code",
   "execution_count": null,
   "metadata": {},
   "outputs": [],
   "source": [
    "def loadSavedMappings():\n",
    "    \n",
    "    AUTHOR_MAP = {}\n",
    "    \n",
    "    #author mappings\n",
    "    map_file = 'authors.json'\n",
    "    \n",
    "    fullFilePath = f'twitter_data/saved_mappings/{map_file}'\n",
    "    with open(fullFilePath, 'r') as f:\n",
    "        AUTHOR_MAP = json.load(f)\n",
    "    \n",
    "    f.close()\n",
    "    \n",
    "    return AUTHOR_MAP\n",
    "\n",
    "AUTHOR_MAP = loadSavedMappings()\n",
    "print(AUTHOR_MAP)\n"
   ]
  },
  {
   "cell_type": "code",
   "execution_count": null,
   "metadata": {},
   "outputs": [],
   "source": [
    "#Initiating Varibales -- derived programatically or rarely changed\n",
    "\n",
    "userName = 'defaultUserName'\n",
    "\n",
    "#MAPPING_FILE_DIR = 'twitter_data/saved_mappings/'\n",
    "basepath = f'twitter_data/{dateFolder}/'\n",
    "baseTweetURL = 'https://twitter.com/{userName}/status/{tweetId}'\n",
    "\n",
    "AUTHOR_MAP = loadSavedMappings()\n",
    "    "
   ]
  },
  {
   "cell_type": "code",
   "execution_count": null,
   "metadata": {},
   "outputs": [],
   "source": [
    "def writeSavedMappings(AUTHOR_MAP):\n",
    "    map_file = 'authors.json'\n",
    "    \n",
    "    fullFilePath = f'twitter_data/saved_mappings/{map_file}'\n",
    "    with open(fullFilePath, 'w') as f:\n",
    "        f.write(json.dumps(AUTHOR_MAP, indent=4, sort_keys=True))\n",
    "    \n",
    "    f.close()\n",
    "    \n",
    "writeSavedMappings(AUTHOR_MAP)"
   ]
  },
  {
   "cell_type": "code",
   "execution_count": null,
   "metadata": {},
   "outputs": [],
   "source": [
    "def get_author(author_id):\n",
    "    \n",
    "    \n",
    "    auth_list = jmespath.search(f\"data[?id == '{author_id}'].username\", AUTHOR_MAP)\n",
    "    userFields = 'location,url,description,entities'\n",
    "    where = 'TBD'\n",
    "\n",
    "    if len(auth_list) == 1:\n",
    "        where = 'locally'\n",
    "        author_username = auth_list[0]\n",
    "    elif len(auth_list) > 1:\n",
    "        author_username = 'UNKN_MultipleResultsReturned'\n",
    "    else:\n",
    "        \n",
    "        api_getAuthor = f'https://api.twitter.com/2/users?ids={author_id}&user.fields={userFields}'\n",
    "        response = requests.get(api_getAuthor, headers={\"Authorization\":bearer})\n",
    "        author_from_twitter = json.loads(response.text)\n",
    "        time.sleep(2) #throttle volume\n",
    "        \n",
    "        \n",
    "        if 'data' in author_from_twitter:\n",
    "            where = 'twitter'\n",
    "            AUTHOR_MAP['data'].append(author_from_twitter['data'][0])\n",
    "            writeSavedMappings(AUTHOR_MAP)\n",
    "            author_username = author_from_twitter['data'][0]['username']\n",
    "        elif 'errors' in   author_from_twitter:\n",
    "            author_username = author_from_twitter['errors'][0]['title']\n",
    "        else:\n",
    "            author_username = 'UNKNN_NoResultsReturned'\n",
    "            print(author_from_twitter)\n",
    "\n",
    "    print(f'found {author_username} : {where} : {author_id}')\n",
    "    return author_username\n",
    "\n",
    "\n",
    "#test\n",
    "author_username = get_author('774273192395280384')\n",
    "\n",
    "\n"
   ]
  },
  {
   "cell_type": "code",
   "execution_count": null,
   "metadata": {},
   "outputs": [],
   "source": [
    "cnt = 0\n",
    "iterr = 0\n",
    "for tweet_json in os.listdir(basepath):\n",
    "    if os.path.isfile(os.path.join(basepath, tweet_json)):\n",
    "        \n",
    "\n",
    "        \n",
    "        fullFilePath = basepath + tweet_json\n",
    "        \n",
    "        iterr +=1\n",
    "        print(f\"working on {iterr}th file: {tweet_json}\")\n",
    "    \n",
    "        with open(fullFilePath, 'r') as f:\n",
    "            tweets = json.load(f)\n",
    "            if tweets['meta']['result_count'] == 0:\n",
    "                next\n",
    "            else:\n",
    "                cnt += tweets['meta']['result_count']\n",
    "                for tweet in tweets['data']:\n",
    "                    \n",
    "                    \n",
    "                    \n",
    "                    \n",
    "                    \n",
    "                    #print(tweet)\n",
    "                    author = get_author(jmespath.search(\"author_id\", tweet))\n",
    "                    #print(tweet_json, ' ')\n",
    "        f.close()\n",
    "                \n",
    "\n",
    "print(cnt , \" results processed.\")"
   ]
  },
  {
   "cell_type": "code",
   "execution_count": null,
   "metadata": {},
   "outputs": [],
   "source": [
    "#create one giant json with consolidated list\n",
    "\n",
    "allTweets = {\"data\" : [], \"meta\" : {\"result_count\" : 0}}\n",
    "tweetDuplicateTracker = {}\n",
    "tweetDuplicateTracker['totalDupes'] = 0\n",
    "\n",
    "\n",
    "cnt = 0\n",
    "iterr = 0\n",
    "for tweet_json in os.listdir(basepath):\n",
    "    if os.path.isfile(os.path.join(basepath, tweet_json)):\n",
    "        \n",
    "\n",
    "        \n",
    "        fullFilePath = basepath + tweet_json\n",
    "\n",
    "        with open(fullFilePath, 'r') as f:\n",
    "            print(fullFilePath)\n",
    "            tweets = json.load(f)\n",
    "            if tweets['meta']['result_count'] == 0:\n",
    "                next\n",
    "            else:\n",
    "                \n",
    "                cnt += tweets['meta']['result_count']\n",
    "                for tweet in tweets['data']:\n",
    "\n",
    "                    \n",
    "                    tweetId = tweet['id']\n",
    "                    if tweetId in tweetDuplicateTracker:\n",
    "                        #dupe\n",
    "                        tweetDuplicateTracker[tweetId] += 1\n",
    "                        tweetDuplicateTracker['totalDupes'] += 1\n",
    "                    else:\n",
    "                        tweetDuplicateTracker[tweetId] = 0\n",
    "                        allTweets['data'].append(tweet)\n",
    "                        allTweets['meta']['result_count'] += 1\n",
    "\n",
    "        f.close()\n",
    "                \n",
    "\n",
    "print(cnt , \" results processed. \", allTweets['meta']['result_count'])\n",
    "fullFilePath = f'twitter_data/weekly_files/{weekly_filename}'\n",
    "with open(fullFilePath, 'w') as f:\n",
    "    f.write(json.dumps(allTweets, indent=4, sort_keys=True))\n",
    "    \n",
    "    f.close()"
   ]
  },
  {
   "cell_type": "code",
   "execution_count": null,
   "metadata": {},
   "outputs": [],
   "source": [
    "print(tweetDuplicateTracker['totalDupes'])\n",
    "print(allTweets['meta']['result_count'])"
   ]
  },
  {
   "cell_type": "code",
   "execution_count": null,
   "metadata": {},
   "outputs": [],
   "source": [
    "len(AUTHOR_MAP['data'])"
   ]
  },
  {
   "cell_type": "code",
   "execution_count": null,
   "metadata": {},
   "outputs": [],
   "source": []
  }
 ],
 "metadata": {
  "kernelspec": {
   "display_name": "Python 3",
   "language": "python",
   "name": "python3"
  },
  "language_info": {
   "codemirror_mode": {
    "name": "ipython",
    "version": 3
   },
   "file_extension": ".py",
   "mimetype": "text/x-python",
   "name": "python",
   "nbconvert_exporter": "python",
   "pygments_lexer": "ipython3",
   "version": "3.8.3"
  }
 },
 "nbformat": 4,
 "nbformat_minor": 4
}
